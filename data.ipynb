{
 "cells": [
  {
   "cell_type": "code",
   "execution_count": 43,
   "id": "2a970a29-c1f6-4796-bd52-b5cf49913942",
   "metadata": {},
   "outputs": [],
   "source": [
    "import pandas as pd"
   ]
  },
  {
   "cell_type": "code",
   "execution_count": 44,
   "id": "4bc5dece-1907-43fe-a234-0631be81941d",
   "metadata": {},
   "outputs": [],
   "source": [
    "scope1 = pd.read_csv(\"C:\\\\Users\\\\dongr\\\\Downloads\\\\power-forecasting\\\\data\\\\scope1.csv\")\n",
    "scope2 = pd.read_csv(\"C:\\\\Users\\\\dongr\\\\Downloads\\\\power-forecasting\\\\data\\\\scope2.csv\")\n",
    "scope3 = pd.read_csv(\"C:\\\\Users\\\\dongr\\\\Downloads\\\\power-forecasting\\\\data\\\\scope3.csv\")"
   ]
  },
  {
   "cell_type": "code",
   "execution_count": 45,
   "id": "07db6723-3527-48bc-93e4-6eda6d82340c",
   "metadata": {},
   "outputs": [
    {
     "name": "stdout",
     "output_type": "stream",
     "text": [
      "<class 'pandas.core.frame.DataFrame'>\n",
      "RangeIndex: 123 entries, 0 to 122\n",
      "Data columns (total 12 columns):\n",
      " #   Column                           Non-Null Count  Dtype  \n",
      "---  ------                           --------------  -----  \n",
      " 0   Section                          123 non-null    object \n",
      " 1   Material                         123 non-null    object \n",
      " 2   Unit of Material                 123 non-null    object \n",
      " 3   Year/Timeline                    123 non-null    object \n",
      " 4   Q1 Quantity                      123 non-null    float64\n",
      " 5   Emission Factor                  123 non-null    float64\n",
      " 6   Unit of Emission Factor          123 non-null    object \n",
      " 7   GHG Emission (tCO2)              123 non-null    float64\n",
      " 8   Carbon Content (%)               123 non-null    float64\n",
      " 9   Combustion Efficiency (%)        123 non-null    float64\n",
      " 10  Data Source for Emission Factor  123 non-null    object \n",
      " 11  Location (Plant)                 123 non-null    object \n",
      "dtypes: float64(5), object(7)\n",
      "memory usage: 11.7+ KB\n",
      "None\n"
     ]
    }
   ],
   "source": [
    "print(scope1.info()) "
   ]
  },
  {
   "cell_type": "code",
   "execution_count": 46,
   "id": "0363adfc-0302-4662-8273-2cd8af79b94d",
   "metadata": {},
   "outputs": [
    {
     "name": "stdout",
     "output_type": "stream",
     "text": [
      "<class 'pandas.core.frame.DataFrame'>\n",
      "RangeIndex: 18 entries, 0 to 17\n",
      "Data columns (total 18 columns):\n",
      " #   Column                       Non-Null Count  Dtype  \n",
      "---  ------                       --------------  -----  \n",
      " 0   Section/Process              18 non-null     object \n",
      " 1   Energy Type                  18 non-null     object \n",
      " 2   Supplier/Source              18 non-null     object \n",
      " 3   Unit                         18 non-null     object \n",
      " 4   Energy Consumed              18 non-null     int64  \n",
      " 5   Emission Factor (tCO₂/unit)  18 non-null     float64\n",
      " 6   Scope 2 Emissions (tCO₂)     18 non-null     float64\n",
      " 7   Renewable Share (%)          18 non-null     object \n",
      " 8   Data Frequency               18 non-null     object \n",
      " 9   Notes                        15 non-null     object \n",
      " 10  Time-of-Use (ToU) Category   18 non-null     object \n",
      " 11  Grid Emission Factor Source  18 non-null     object \n",
      " 12  Load Factor (%)              18 non-null     float64\n",
      " 13  Power Factor                 18 non-null     float64\n",
      " 14  Location (Plant)             18 non-null     object \n",
      " 15  Uncertainty (%)              18 non-null     float64\n",
      " 16  GHG Intensity (tCO2/MWh)     18 non-null     int64  \n",
      " 17  year/timeline                18 non-null     object \n",
      "dtypes: float64(5), int64(2), object(11)\n",
      "memory usage: 2.7+ KB\n",
      "None\n"
     ]
    }
   ],
   "source": [
    "print(scope2.info())"
   ]
  },
  {
   "cell_type": "code",
   "execution_count": 47,
   "id": "7a7cdc8c-05b1-4048-bea4-3ba749db78ee",
   "metadata": {},
   "outputs": [
    {
     "name": "stdout",
     "output_type": "stream",
     "text": [
      "<class 'pandas.core.frame.DataFrame'>\n",
      "RangeIndex: 120 entries, 0 to 119\n",
      "Data columns (total 15 columns):\n",
      " #   Column                       Non-Null Count  Dtype  \n",
      "---  ------                       --------------  -----  \n",
      " 0   Month                        120 non-null    object \n",
      " 1   Scope 3 Category             120 non-null    object \n",
      " 2   Activity Description         120 non-null    object \n",
      " 3   Unit of Activity             120 non-null    object \n",
      " 4   Quantity                     120 non-null    float64\n",
      " 5   Emission Factor (tCO2/unit)  120 non-null    float64\n",
      " 6   Scope 3 Emissions (tCO2)     120 non-null    float64\n",
      " 7   Scope Type                   120 non-null    object \n",
      " 8   Transportation Mode          14 non-null     object \n",
      " 9   Vendor Involved              37 non-null     object \n",
      " 10  Lifecycle Stage              120 non-null    object \n",
      " 11  Emission Factor Source       120 non-null    object \n",
      " 12  Measurement Method           120 non-null    object \n",
      " 13  Uncertainty (%)              120 non-null    float64\n",
      " 14  year/timeline                120 non-null    object \n",
      "dtypes: float64(4), object(11)\n",
      "memory usage: 14.2+ KB\n",
      "None\n"
     ]
    }
   ],
   "source": [
    "print(scope3.info())"
   ]
  },
  {
   "cell_type": "raw",
   "id": "2a40add0-bf49-44f4-ad25-be505f6e8bee",
   "metadata": {},
   "source": [
    "we can clearly observe that in scope1 there is no null values as off. In scope 2 there are 18 rows and in column name Notes have 3 null values.\n",
    "and scope3 execl file we have 120 rows out of 189 null values in column  Transportation Mode(106) and Vendor Involved(83). means we have handle null values also."
   ]
  },
  {
   "cell_type": "code",
   "execution_count": 48,
   "id": "ac5c5985-b7da-46fb-afb6-da7c2436645c",
   "metadata": {},
   "outputs": [],
   "source": [
    "scope1.columns = scope1.columns.str.strip().str.lower().str.replace(\" \", \"_\")\n",
    "scope2.columns = scope2.columns.str.strip().str.lower().str.replace(\" \", \"_\")\n",
    "scope3.columns = scope3.columns.str.strip().str.lower().str.replace(\" \", \"_\")"
   ]
  },
  {
   "cell_type": "raw",
   "id": "a7933d5e-96d8-4c8c-ac7c-a0848ae43931",
   "metadata": {},
   "source": [
    "above step has been done for removing space by unerscore (_)  because programming languages and data analysis libraries often use underscores as separators or to avoid conflicts with reserved keywords or invalid characters in variable or column names"
   ]
  },
  {
   "cell_type": "code",
   "execution_count": 49,
   "id": "262d3657-7eb9-4d49-9781-08e676b67f8c",
   "metadata": {},
   "outputs": [
    {
     "name": "stdout",
     "output_type": "stream",
     "text": [
      "Index(['section', 'material', 'unit_of_material', 'year/timeline',\n",
      "       'q1_quantity', 'emission_factor', 'unit_of_emission_factor',\n",
      "       'ghg_emission_(tco2)', 'carbon_content_(%)',\n",
      "       'combustion_efficiency_(%)', 'data_source_for_emission_factor',\n",
      "       'location_(plant)'],\n",
      "      dtype='object')\n",
      "------------------------------------------------------------\n",
      "Index(['section/process', 'energy_type', 'supplier/source', 'unit',\n",
      "       'energy_consumed', 'emission_factor_(tco₂/unit)',\n",
      "       'scope_2_emissions_(tco₂)', 'renewable_share_(%)', 'data_frequency',\n",
      "       'notes', 'time-of-use_(tou)_category', 'grid_emission_factor_source',\n",
      "       'load_factor_(%)', 'power_factor', 'location_(plant)',\n",
      "       'uncertainty_(%)', 'ghg_intensity_(tco2/mwh)', 'year/timeline'],\n",
      "      dtype='object')\n",
      "------------------------------------------------------------\n",
      "Index(['month', 'scope_3_category', 'activity_description', 'unit_of_activity',\n",
      "       'quantity', 'emission_factor_(tco2/unit)', 'scope_3_emissions_(tco2)',\n",
      "       'scope_type', 'transportation_mode', 'vendor_involved',\n",
      "       'lifecycle_stage', 'emission_factor_source', 'measurement_method',\n",
      "       'uncertainty_(%)', 'year/timeline'],\n",
      "      dtype='object')\n",
      "------------------------------------------------------------\n"
     ]
    }
   ],
   "source": [
    "print(scope1.columns)\n",
    "print(\"------------------------------------------------------------\")\n",
    "print(scope2.columns)\n",
    "print(\"------------------------------------------------------------\")\n",
    "print(scope3.columns)\n",
    "print(\"------------------------------------------------------------\")"
   ]
  },
  {
   "cell_type": "code",
   "execution_count": 50,
   "id": "1bfdb03d-8e17-4424-8160-b87334092827",
   "metadata": {},
   "outputs": [],
   "source": [
    "factors = scope1[['section', 'material', 'unit_of_material', 'year/timeline',\n",
    "       'q1_quantity', 'emission_factor', 'unit_of_emission_factor',\n",
    "       'ghg_emission_(tco2)', 'carbon_content_(%)',\n",
    "       'combustion_efficiency_(%)', 'data_source_for_emission_factor',\n",
    "       'location_(plant)']].drop_duplicates()"
   ]
  },
  {
   "cell_type": "code",
   "execution_count": 51,
   "id": "6a74a4e9-2957-4d67-8b60-05b71b0666c7",
   "metadata": {},
   "outputs": [
    {
     "name": "stdout",
     "output_type": "stream",
     "text": [
      "<class 'pandas.core.frame.DataFrame'>\n",
      "RangeIndex: 123 entries, 0 to 122\n",
      "Data columns (total 12 columns):\n",
      " #   Column                           Non-Null Count  Dtype  \n",
      "---  ------                           --------------  -----  \n",
      " 0   section                          123 non-null    object \n",
      " 1   material                         123 non-null    object \n",
      " 2   unit_of_material                 123 non-null    object \n",
      " 3   year/timeline                    123 non-null    object \n",
      " 4   q1_quantity                      123 non-null    float64\n",
      " 5   emission_factor                  123 non-null    float64\n",
      " 6   unit_of_emission_factor          123 non-null    object \n",
      " 7   ghg_emission_(tco2)              123 non-null    float64\n",
      " 8   carbon_content_(%)               123 non-null    float64\n",
      " 9   combustion_efficiency_(%)        123 non-null    float64\n",
      " 10  data_source_for_emission_factor  123 non-null    object \n",
      " 11  location_(plant)                 123 non-null    object \n",
      "dtypes: float64(5), object(7)\n",
      "memory usage: 11.7+ KB\n",
      "None\n"
     ]
    }
   ],
   "source": [
    "print(scope1.info()) "
   ]
  },
  {
   "cell_type": "code",
   "execution_count": 52,
   "id": "5fcd737f-dd00-40d0-ad9d-21cb25b7c56b",
   "metadata": {},
   "outputs": [],
   "source": [
    "factorss = scope2[['section/process', 'energy_type', 'supplier/source', 'unit',\n",
    "       'energy_consumed', 'emission_factor_(tco₂/unit)',\n",
    "       'scope_2_emissions_(tco₂)', 'renewable_share_(%)', 'data_frequency',\n",
    "       'notes', 'time-of-use_(tou)_category', 'grid_emission_factor_source',\n",
    "       'load_factor_(%)', 'power_factor', 'location_(plant)',\n",
    "       'uncertainty_(%)', 'ghg_intensity_(tco2/mwh)', 'year/timeline']].drop_duplicates()"
   ]
  },
  {
   "cell_type": "code",
   "execution_count": 53,
   "id": "2558425e-9534-4da6-beac-ed13bf6d7b44",
   "metadata": {},
   "outputs": [
    {
     "name": "stdout",
     "output_type": "stream",
     "text": [
      "<class 'pandas.core.frame.DataFrame'>\n",
      "RangeIndex: 18 entries, 0 to 17\n",
      "Data columns (total 18 columns):\n",
      " #   Column                       Non-Null Count  Dtype  \n",
      "---  ------                       --------------  -----  \n",
      " 0   section/process              18 non-null     object \n",
      " 1   energy_type                  18 non-null     object \n",
      " 2   supplier/source              18 non-null     object \n",
      " 3   unit                         18 non-null     object \n",
      " 4   energy_consumed              18 non-null     int64  \n",
      " 5   emission_factor_(tco₂/unit)  18 non-null     float64\n",
      " 6   scope_2_emissions_(tco₂)     18 non-null     float64\n",
      " 7   renewable_share_(%)          18 non-null     object \n",
      " 8   data_frequency               18 non-null     object \n",
      " 9   notes                        15 non-null     object \n",
      " 10  time-of-use_(tou)_category   18 non-null     object \n",
      " 11  grid_emission_factor_source  18 non-null     object \n",
      " 12  load_factor_(%)              18 non-null     float64\n",
      " 13  power_factor                 18 non-null     float64\n",
      " 14  location_(plant)             18 non-null     object \n",
      " 15  uncertainty_(%)              18 non-null     float64\n",
      " 16  ghg_intensity_(tco2/mwh)     18 non-null     int64  \n",
      " 17  year/timeline                18 non-null     object \n",
      "dtypes: float64(5), int64(2), object(11)\n",
      "memory usage: 2.7+ KB\n",
      "None\n"
     ]
    }
   ],
   "source": [
    "print(scope2.info()) "
   ]
  },
  {
   "cell_type": "code",
   "execution_count": 54,
   "id": "989cf770-2d7a-4b46-bc9a-a4b7d72484a0",
   "metadata": {},
   "outputs": [],
   "source": [
    "factorsss = scope3[['month', 'scope_3_category', 'activity_description', 'unit_of_activity',\n",
    "       'quantity', 'emission_factor_(tco2/unit)', 'scope_3_emissions_(tco2)',\n",
    "       'scope_type', 'transportation_mode', 'vendor_involved',\n",
    "       'lifecycle_stage', 'emission_factor_source', 'measurement_method',\n",
    "       'uncertainty_(%)', 'year/timeline']].drop_duplicates()"
   ]
  },
  {
   "cell_type": "code",
   "execution_count": 55,
   "id": "3c682e6d-a4fa-473e-8cb0-90396fb021f9",
   "metadata": {},
   "outputs": [
    {
     "name": "stdout",
     "output_type": "stream",
     "text": [
      "<class 'pandas.core.frame.DataFrame'>\n",
      "RangeIndex: 120 entries, 0 to 119\n",
      "Data columns (total 15 columns):\n",
      " #   Column                       Non-Null Count  Dtype  \n",
      "---  ------                       --------------  -----  \n",
      " 0   month                        120 non-null    object \n",
      " 1   scope_3_category             120 non-null    object \n",
      " 2   activity_description         120 non-null    object \n",
      " 3   unit_of_activity             120 non-null    object \n",
      " 4   quantity                     120 non-null    float64\n",
      " 5   emission_factor_(tco2/unit)  120 non-null    float64\n",
      " 6   scope_3_emissions_(tco2)     120 non-null    float64\n",
      " 7   scope_type                   120 non-null    object \n",
      " 8   transportation_mode          14 non-null     object \n",
      " 9   vendor_involved              37 non-null     object \n",
      " 10  lifecycle_stage              120 non-null    object \n",
      " 11  emission_factor_source       120 non-null    object \n",
      " 12  measurement_method           120 non-null    object \n",
      " 13  uncertainty_(%)              120 non-null    float64\n",
      " 14  year/timeline                120 non-null    object \n",
      "dtypes: float64(4), object(11)\n",
      "memory usage: 14.2+ KB\n",
      "None\n"
     ]
    }
   ],
   "source": [
    "print(scope3.info()) "
   ]
  },
  {
   "cell_type": "raw",
   "id": "224f4ff5-b990-4e2d-8771-8339ff80df2b",
   "metadata": {},
   "source": [
    "by comparing previous information of scope1, scope2, scope3 and information after removing duplicates indicates that there no duplicates values present in scope1, scope2, scope3."
   ]
  },
  {
   "cell_type": "code",
   "execution_count": 56,
   "id": "9260adb9-8a88-47a9-873c-c339c3d5741f",
   "metadata": {},
   "outputs": [
    {
     "name": "stdout",
     "output_type": "stream",
     "text": [
      "section/process                0\n",
      "energy_type                    0\n",
      "supplier/source                0\n",
      "unit                           0\n",
      "energy_consumed                0\n",
      "emission_factor_(tco₂/unit)    0\n",
      "scope_2_emissions_(tco₂)       0\n",
      "renewable_share_(%)            0\n",
      "data_frequency                 0\n",
      "notes                          0\n",
      "time-of-use_(tou)_category     0\n",
      "grid_emission_factor_source    0\n",
      "load_factor_(%)                0\n",
      "power_factor                   0\n",
      "location_(plant)               0\n",
      "uncertainty_(%)                0\n",
      "ghg_intensity_(tco2/mwh)       0\n",
      "year/timeline                  0\n",
      "dtype: int64\n"
     ]
    },
    {
     "name": "stderr",
     "output_type": "stream",
     "text": [
      "C:\\Users\\dongr\\AppData\\Local\\Temp\\ipykernel_30484\\2809329085.py:1: FutureWarning: Series.fillna with 'method' is deprecated and will raise in a future version. Use obj.ffill() or obj.bfill() instead.\n",
      "  scope2['notes'] = scope2['notes'].fillna(method='ffill')\n"
     ]
    }
   ],
   "source": [
    "scope2['notes'] = scope2['notes'].fillna(method='ffill')\n",
    "print(scope2.isnull().sum())"
   ]
  },
  {
   "cell_type": "raw",
   "id": "f8914a77-9e6d-4d51-a923-1cc29a998681",
   "metadata": {},
   "source": [
    "by observing the pattern i had decided to fill null values using ffill which put the above value of row in null space"
   ]
  },
  {
   "cell_type": "code",
   "execution_count": 57,
   "id": "dfc91f3b-2752-444f-ad08-07a0b4b5f68b",
   "metadata": {},
   "outputs": [],
   "source": [
    "def fill_transport_mode(row):\n",
    "    if pd.notna(row['transportation_mode']) and row['transportation_mode'].strip() != '':\n",
    "        return row['transportation_mode']\n",
    "    \n",
    "    # Map known vendors to transport mode\n",
    "    vendor_transport_map = {\n",
    "        'WasteServ India': 'Road',\n",
    "        'DRI Corp Pvt Ltd': 'Mixed',\n",
    "        # Add more mappings as needed\n",
    "    }\n",
    "    \n",
    "    if row['vendor_involved'] in vendor_transport_map:\n",
    "        return vendor_transport_map[row['vendor_involved']]\n",
    "    \n",
    "    if 'Air Travel' in str(row['activity_description']):\n",
    "        return 'Air'\n",
    "    \n",
    "    if row['scope_3_category'] in ['Upstream Transportation and Distribution', 'Downstream Transportation and Distribution']:\n",
    "        return 'Mixed'\n",
    "    \n",
    "    if row['scope_3_category'] == 'Business Travel':\n",
    "        return 'Air'\n",
    "    \n",
    "    return 'Unknown'\n",
    "\n",
    "# Apply to the dataframe\n",
    "scope3['transportation_mode'] = scope3.apply(fill_transport_mode, axis=1)\n",
    "scope3['vendor_involved'] = scope3['vendor_involved'].fillna('Unknown')  # Fill NaN with 'Unknown'\n",
    "scope3['vendor_involved'] = scope3['vendor_involved'].replace(r'^\\s*$', 'Unknown', regex=True)  # Replace empty strings with 'Unknown'\n"
   ]
  },
  {
   "cell_type": "code",
   "execution_count": 58,
   "id": "14e0a691-2f1c-44d2-b578-77d0c775bc25",
   "metadata": {},
   "outputs": [
    {
     "name": "stdout",
     "output_type": "stream",
     "text": [
      "['tonnes' 'kNm3' 'KL' 'Nm3']\n",
      "_______________________________________\n",
      "['tCO2/t' 'tCO2/KL' 'tCO2/Nm3']\n"
     ]
    }
   ],
   "source": [
    "print(scope1['unit_of_material'].unique())\n",
    "print(\"_______________________________________\")\n",
    "print(scope1['unit_of_emission_factor'].unique())"
   ]
  },
  {
   "cell_type": "code",
   "execution_count": 59,
   "id": "c7890600-fdfc-492c-944f-71bef14f935c",
   "metadata": {},
   "outputs": [
    {
     "name": "stdout",
     "output_type": "stream",
     "text": [
      "['kWh' 'GJ']\n",
      "_______________________________________\n"
     ]
    }
   ],
   "source": [
    "print(scope2['unit'].unique())\n",
    "print(\"_______________________________________\")"
   ]
  },
  {
   "cell_type": "code",
   "execution_count": 60,
   "id": "38a96562-5c7f-44be-9d48-a237435aeb11",
   "metadata": {},
   "outputs": [],
   "source": [
    "def convert_quantity(row):\n",
    "    unit_material = str(row['unit_of_material']).strip().lower()\n",
    "    unit_emission = str(row['unit_of_emission_factor']).strip().lower()\n",
    "    quantity = row['q1_quantity']\n",
    "    material = row['material']\n",
    "\n",
    "    # Convert KL (or similar) to tonnes if emission factor per tonne\n",
    "    if 'tco2/t' in unit_emission and unit_material in ['kl', 'kilo litre', 'kiloliter']:\n",
    "        if material in density_lookup:\n",
    "            density = density_lookup[material]\n",
    "            return quantity * density  # Convert KL to tonnes\n",
    "        else:\n",
    "            return float('nan')  # Unknown density\n",
    "    \n",
    "    # Convert tonnes to KL if emission factor per KL\n",
    "    elif 'tco2/kl' in unit_emission and unit_material == 'tonnes':\n",
    "        if material in density_lookup:\n",
    "            density = density_lookup[material]\n",
    "            return quantity / density  # Convert tonnes to KL\n",
    "        else:\n",
    "            return float('nan')\n",
    "\n",
    "    # If units are consistent or conversion not needed\n",
    "    else:\n",
    "        return quantity"
   ]
  },
  {
   "cell_type": "code",
   "execution_count": 61,
   "id": "010f1073-3c5d-491f-898c-f88a92e922f3",
   "metadata": {},
   "outputs": [],
   "source": [
    "year = 2006\n",
    "\n",
    "# Map quarters to starting dates of that quarter\n",
    "quarter_to_date = {\n",
    "    'Q1': f'{year}-01-01',\n",
    "    'Q2': f'{year}-04-01',\n",
    "    'Q3': f'{year}-07-01',\n",
    "    'Q4': f'{year}-10-01'\n",
    "}"
   ]
  },
  {
   "cell_type": "code",
   "execution_count": 62,
   "id": "c002f533-a905-4813-9962-d1f8545a38c2",
   "metadata": {},
   "outputs": [
    {
     "name": "stdout",
     "output_type": "stream",
     "text": [
      "          section                 material unit_of_material year/timeline  \\\n",
      "0    Pellet Plant          Anthracite Coal           tonnes    2006-01-01   \n",
      "1    Pellet Plant               Iron Scrap           tonnes    2006-01-01   \n",
      "2    Pellet Plant           Petroleum Coke           tonnes    2006-01-01   \n",
      "3    Pellet Plant          Bituminous Coal           tonnes    2006-01-01   \n",
      "4    Pellet Plant  Calcined Petroleum Coke           tonnes    2006-01-01   \n",
      "..            ...                      ...              ...           ...   \n",
      "118   Power Plant             Carbon Paste           tonnes    2006-04-01   \n",
      "119   Power Plant              Waste Tyres           tonnes    2006-04-01   \n",
      "120   Power Plant                Used Oils               KL    2006-04-01   \n",
      "121   Power Plant           Coolant Fluids               KL    2006-04-01   \n",
      "122   Power Plant              Sludge Cake           tonnes    2006-04-01   \n",
      "\n",
      "     q1_quantity  emission_factor unit_of_emission_factor  \\\n",
      "0      136843.66            1.044                  tCO2/t   \n",
      "1      399043.61            2.849                 tCO2/KL   \n",
      "2       92899.41            1.390                 tCO2/KL   \n",
      "3      476400.55            3.084                 tCO2/KL   \n",
      "4      343775.39            2.036                  tCO2/t   \n",
      "..           ...              ...                     ...   \n",
      "118    399621.37            2.556                  tCO2/t   \n",
      "119    315260.92            0.604                tCO2/Nm3   \n",
      "120      8744.14            1.826                  tCO2/t   \n",
      "121      4937.27            0.194                  tCO2/t   \n",
      "122    624486.88            0.703                  tCO2/t   \n",
      "\n",
      "     ghg_emission_(tco2)  carbon_content_(%)  combustion_efficiency_(%)  \\\n",
      "0           1.428648e+05               88.13                      89.56   \n",
      "1           1.136875e+06               91.64                      90.20   \n",
      "2           1.291302e+05               75.73                      87.63   \n",
      "3           1.469219e+06               81.49                      93.63   \n",
      "4           6.999267e+05               76.71                      92.55   \n",
      "..                   ...                 ...                        ...   \n",
      "118         1.021432e+06               87.78                      94.86   \n",
      "119         1.904176e+05               87.26                      94.05   \n",
      "120         1.596680e+04               76.96                      87.17   \n",
      "121         9.578304e+02               86.44                      91.18   \n",
      "122         4.390143e+05               91.50                      91.17   \n",
      "\n",
      "    data_source_for_emission_factor     location_(plant)  \n",
      "0              IPCC 2006 Guidelines  Central Steel Plant  \n",
      "1              IPCC 2006 Guidelines  Central Steel Plant  \n",
      "2              IPCC 2006 Guidelines  Central Steel Plant  \n",
      "3              IPCC 2006 Guidelines  Central Steel Plant  \n",
      "4              IPCC 2006 Guidelines  Central Steel Plant  \n",
      "..                              ...                  ...  \n",
      "118            IPCC 2006 Guidelines  Central Steel Plant  \n",
      "119            IPCC 2006 Guidelines  Central Steel Plant  \n",
      "120            IPCC 2006 Guidelines  Central Steel Plant  \n",
      "121            IPCC 2006 Guidelines  Central Steel Plant  \n",
      "122            IPCC 2006 Guidelines  Central Steel Plant  \n",
      "\n",
      "[123 rows x 12 columns]\n"
     ]
    }
   ],
   "source": [
    "#Convert to datetime\n",
    "scope1['year/timeline'] = scope1['year/timeline'].map(quarter_to_date)\n",
    "scope1['year/timeline'] = pd.to_datetime(scope1['year/timeline'])\n",
    "\n",
    "print(scope1)"
   ]
  },
  {
   "cell_type": "code",
   "execution_count": 63,
   "id": "01539cb1-7e8a-4ca5-a5c9-9a1bc3cb71a5",
   "metadata": {},
   "outputs": [
    {
     "name": "stdout",
     "output_type": "stream",
     "text": [
      "         section/process              energy_type       supplier/source unit  \\\n",
      "0                    EAF    Purchased Electricity  Grid - State Utility  kWh   \n",
      "1           Rolling Mill    Purchased Electricity    Grid - Open Access  kWh   \n",
      "2           Pellet Plant    Purchased Electricity  Captive Solar + Grid  kWh   \n",
      "3   Utilities (WDU, etc)           Imported Steam  Nearby Process Plant   GJ   \n",
      "4        Admin Buildings    Purchased Electricity          Local Discom  kWh   \n",
      "5            Power Plant  Electricity Consumption                 Solar  kWh   \n",
      "6                    EAF    Purchased Electricity  Grid - State Utility  kWh   \n",
      "7           Rolling Mill    Purchased Electricity    Grid - Open Access  kWh   \n",
      "8           Pellet Plant    Purchased Electricity  Captive Solar + Grid  kWh   \n",
      "9   Utilities (WDU, etc)           Imported Steam  Nearby Process Plant   GJ   \n",
      "10       Admin Buildings    Purchased Electricity          Local Discom  kWh   \n",
      "11           Power Plant  Electricity Consumption                 Solar  kWh   \n",
      "12                   EAF    Purchased Electricity  Grid - State Utility  kWh   \n",
      "13          Rolling Mill    Purchased Electricity    Grid - Open Access  kWh   \n",
      "14          Pellet Plant    Purchased Electricity  Captive Solar + Grid  kWh   \n",
      "15  Utilities (WDU, etc)           Imported Steam  Nearby Process Plant   GJ   \n",
      "16       Admin Buildings    Purchased Electricity          Local Discom  kWh   \n",
      "17           Power Plant  Electricity Consumption                 Solar  kWh   \n",
      "\n",
      "    energy_consumed  emission_factor_(tco₂/unit)  scope_2_emissions_(tco₂)  \\\n",
      "0             60000                         0.80                   48000.0   \n",
      "1             25000                         0.80                   20000.0   \n",
      "2             10000                         0.60                    6000.0   \n",
      "3             15000                         0.20                    3000.0   \n",
      "4              5000                         0.85                    4250.0   \n",
      "5           8199450                         0.71                 5821609.5   \n",
      "6             62000                         0.80                   49600.0   \n",
      "7             26000                         0.80                   20800.0   \n",
      "8             11000                         0.60                    6600.0   \n",
      "9             14500                         0.20                    2900.0   \n",
      "10             5200                         0.85                    4420.0   \n",
      "11          8300000                         0.71                 5893000.0   \n",
      "12            58000                         0.80                   46400.0   \n",
      "13            24000                         0.80                   19200.0   \n",
      "14             9500                         0.60                    5700.0   \n",
      "15            15500                         0.20                    3100.0   \n",
      "16             4800                         0.85                    4080.0   \n",
      "17          8100000                         0.71                 5751000.0   \n",
      "\n",
      "   renewable_share_(%) data_frequency                        notes  \\\n",
      "0                  20%      Quarterly      Heavy use of grid power   \n",
      "1                  30%      Quarterly              High-speed mill   \n",
      "2                  40%      Quarterly  Blended grid + solar source   \n",
      "3                   0%      Quarterly         Sourced via pipeline   \n",
      "4                   5%      Quarterly              HVAC + lighting   \n",
      "5                   5%      Quarterly              HVAC + lighting   \n",
      "6                  22%      Quarterly      Heavy use of grid power   \n",
      "7                  32%      Quarterly              High-speed mill   \n",
      "8                  45%      Quarterly  Blended grid + solar source   \n",
      "9                   0%      Quarterly         Sourced via pipeline   \n",
      "10                  6%      Quarterly              HVAC + lighting   \n",
      "11                  6%      Quarterly              HVAC + lighting   \n",
      "12                 18%      Quarterly      Heavy use of grid power   \n",
      "13                 28%      Quarterly              High-speed mill   \n",
      "14                 38%      Quarterly  Blended grid + solar source   \n",
      "15                  0%      Quarterly         Sourced via pipeline   \n",
      "16                  4%      Quarterly              HVAC + lighting   \n",
      "17                  4%      Quarterly              HVAC + lighting   \n",
      "\n",
      "   time-of-use_(tou)_category grid_emission_factor_source  load_factor_(%)  \\\n",
      "0                       Mixed       CEA India 2023 Report             82.7   \n",
      "1                    Off-Peak       CEA India 2023 Report             90.9   \n",
      "2                       Mixed       CEA India 2023 Report             65.4   \n",
      "3                        Peak       CEA India 2023 Report             65.5   \n",
      "4                        Peak       CEA India 2023 Report             73.2   \n",
      "5                       Mixed       CEA India 2023 Report             62.7   \n",
      "6                       Mixed       CEA India 2023 Report             83.0   \n",
      "7                    Off-Peak       CEA India 2023 Report             91.2   \n",
      "8                       Mixed       CEA India 2023 Report             66.0   \n",
      "9                        Peak       CEA India 2023 Report             65.0   \n",
      "10                       Peak       CEA India 2023 Report             73.5   \n",
      "11                      Mixed       CEA India 2023 Report             63.0   \n",
      "12                      Mixed       CEA India 2023 Report             82.5   \n",
      "13                   Off-Peak       CEA India 2023 Report             90.5   \n",
      "14                      Mixed       CEA India 2023 Report             65.0   \n",
      "15                       Peak       CEA India 2023 Report             66.0   \n",
      "16                       Peak       CEA India 2023 Report             73.0   \n",
      "17                      Mixed       CEA India 2023 Report             62.5   \n",
      "\n",
      "    power_factor     location_(plant)  uncertainty_(%)  \\\n",
      "0           0.87  Central Steel Plant              6.8   \n",
      "1           0.96  Central Steel Plant              2.9   \n",
      "2           0.95  Central Steel Plant              5.9   \n",
      "3           0.85  Central Steel Plant              7.9   \n",
      "4           0.98  Central Steel Plant              5.9   \n",
      "5           0.98  Central Steel Plant              4.9   \n",
      "6           0.88  Central Steel Plant              7.0   \n",
      "7           0.97  Central Steel Plant              3.0   \n",
      "8           0.96  Central Steel Plant              6.0   \n",
      "9           0.86  Central Steel Plant              8.0   \n",
      "10          0.98  Central Steel Plant              6.0   \n",
      "11          0.99  Central Steel Plant              5.0   \n",
      "12          0.86  Central Steel Plant              6.7   \n",
      "13          0.95  Central Steel Plant              2.8   \n",
      "14          0.94  Central Steel Plant              5.8   \n",
      "15          0.84  Central Steel Plant              8.1   \n",
      "16          0.97  Central Steel Plant              5.8   \n",
      "17          0.97  Central Steel Plant              4.8   \n",
      "\n",
      "    ghg_intensity_(tco2/mwh) year/timeline  \n",
      "0                        800    2023-01-01  \n",
      "1                        800    2023-01-01  \n",
      "2                        600    2023-01-01  \n",
      "3                        200    2023-01-01  \n",
      "4                        850    2023-01-01  \n",
      "5                        710    2023-01-01  \n",
      "6                        800    2023-04-01  \n",
      "7                        800    2023-04-01  \n",
      "8                        600    2023-04-01  \n",
      "9                        200    2023-04-01  \n",
      "10                       850    2023-04-01  \n",
      "11                       710    2023-04-01  \n",
      "12                       800    2023-07-01  \n",
      "13                       800    2023-07-01  \n",
      "14                       600    2023-07-01  \n",
      "15                       200    2023-07-01  \n",
      "16                       850    2023-07-01  \n",
      "17                       710    2023-07-01  \n"
     ]
    }
   ],
   "source": [
    "year = 2023\n",
    "\n",
    "# Map quarters to starting dates of that quarter\n",
    "quarter_to_date = {\n",
    "    'Q1': f'{year}-01-01',\n",
    "    'Q2': f'{year}-04-01',\n",
    "    'Q3': f'{year}-07-01',\n",
    "    'Q4': f'{year}-10-01'\n",
    "}\n",
    "scope2['year/timeline'] = scope2['year/timeline'].map(quarter_to_date)\n",
    "scope2['year/timeline'] = pd.to_datetime(scope2['year/timeline'])\n",
    "\n",
    "print(scope2)"
   ]
  },
  {
   "cell_type": "code",
   "execution_count": 64,
   "id": "acb996a7-a163-445f-ac09-987f1131922d",
   "metadata": {},
   "outputs": [
    {
     "name": "stdout",
     "output_type": "stream",
     "text": [
      "       month                            scope_3_category  \\\n",
      "0    2024-01               Waste Generated in Operations   \n",
      "1    2024-01                             Business Travel   \n",
      "2    2024-01                Purchased Goods and Services   \n",
      "3    2024-01                          Employee Commuting   \n",
      "4    2024-01    Upstream Transportation and Distribution   \n",
      "..       ...                                         ...   \n",
      "115  2024-12                Purchased Goods and Services   \n",
      "116  2024-12  Downstream Transportation and Distribution   \n",
      "117  2024-12                      Downstream Investments   \n",
      "118  2024-12                Purchased Goods and Services   \n",
      "119  2024-12                          Employee Commuting   \n",
      "\n",
      "             activity_description unit_of_activity     quantity  \\\n",
      "0             Steel Slag Disposal           tonnes     15733.76   \n",
      "1                      Air Travel               km    478426.47   \n",
      "2             DRI (from supplier)           tonnes    325925.91   \n",
      "3                  Bus/Car Travel               km   1026075.79   \n",
      "4               Inbound logistics         tonne-km  75528315.32   \n",
      "..                            ...              ...          ...   \n",
      "115                      Iron Ore           tonnes   1317684.78   \n",
      "116            Outbound logistics         tonne-km  55335941.62   \n",
      "117  Operated facilities (leased)             tCO2    109487.84   \n",
      "118                EAF Electrodes           tonnes      1809.65   \n",
      "119                Bus/Car Travel               km   1386858.78   \n",
      "\n",
      "     emission_factor_(tco2/unit)  scope_3_emissions_(tco2)  scope_type  \\\n",
      "0                           0.10               1573.376000    Upstream   \n",
      "1                           0.00                 86.116765  Downstream   \n",
      "2                           0.25              81481.477500    Upstream   \n",
      "3                           0.00                123.129095    Upstream   \n",
      "4                           0.00               3776.415766    Upstream   \n",
      "..                           ...                       ...         ...   \n",
      "115                         0.12             158122.173600    Upstream   \n",
      "116                         0.00               3320.156497  Downstream   \n",
      "117                         1.00             109487.840000  Downstream   \n",
      "118                         2.10               3800.265000    Upstream   \n",
      "119                         0.00                166.423054    Upstream   \n",
      "\n",
      "    transportation_mode   vendor_involved lifecycle_stage  \\\n",
      "0                  Road   WasteServ India     Consumption   \n",
      "1                   Air           Unknown    Raw Material   \n",
      "2                 Mixed  DRI Corp Pvt Ltd    Distribution   \n",
      "3               Unknown           Unknown     Consumption   \n",
      "4                   Sea           Unknown    Raw Material   \n",
      "..                  ...               ...             ...   \n",
      "115               Mixed  DRI Corp Pvt Ltd    Distribution   \n",
      "116                Road           Unknown      Processing   \n",
      "117             Unknown           Unknown     Consumption   \n",
      "118               Mixed  DRI Corp Pvt Ltd    Distribution   \n",
      "119             Unknown           Unknown      Processing   \n",
      "\n",
      "             emission_factor_source                   measurement_method  \\\n",
      "0    GHG Protocol Scope 3 Eval Tool  Spend-based / Distance-based hybrid   \n",
      "1    GHG Protocol Scope 3 Eval Tool  Spend-based / Distance-based hybrid   \n",
      "2    GHG Protocol Scope 3 Eval Tool  Spend-based / Distance-based hybrid   \n",
      "3    GHG Protocol Scope 3 Eval Tool  Spend-based / Distance-based hybrid   \n",
      "4    GHG Protocol Scope 3 Eval Tool  Spend-based / Distance-based hybrid   \n",
      "..                              ...                                  ...   \n",
      "115  GHG Protocol Scope 3 Eval Tool  Spend-based / Distance-based hybrid   \n",
      "116  GHG Protocol Scope 3 Eval Tool  Spend-based / Distance-based hybrid   \n",
      "117  GHG Protocol Scope 3 Eval Tool  Spend-based / Distance-based hybrid   \n",
      "118  GHG Protocol Scope 3 Eval Tool  Spend-based / Distance-based hybrid   \n",
      "119  GHG Protocol Scope 3 Eval Tool  Spend-based / Distance-based hybrid   \n",
      "\n",
      "     uncertainty_(%) year/timeline  \n",
      "0               10.5    2024-01-01  \n",
      "1               10.5    2024-01-01  \n",
      "2               14.1    2024-01-01  \n",
      "3                9.8    2024-01-01  \n",
      "4               14.0    2024-01-01  \n",
      "..               ...           ...  \n",
      "115             13.1    2024-10-01  \n",
      "116             14.6    2024-10-01  \n",
      "117             11.3    2024-10-01  \n",
      "118             13.2    2024-10-01  \n",
      "119             13.1    2024-10-01  \n",
      "\n",
      "[120 rows x 15 columns]\n"
     ]
    }
   ],
   "source": [
    "year = 2024\n",
    "\n",
    "# Map quarters to starting dates of that quarter\n",
    "quarter_to_date = {\n",
    "    'Q1': f'{year}-01-01',\n",
    "    'Q2': f'{year}-04-01',\n",
    "    'Q3': f'{year}-07-01',\n",
    "    'Q4': f'{year}-10-01'\n",
    "}\n",
    "scope3['year/timeline'] = scope3['year/timeline'].map(quarter_to_date)\n",
    "scope3['year/timeline'] = pd.to_datetime(scope3['year/timeline'])\n",
    "\n",
    "print(scope3)"
   ]
  },
  {
   "cell_type": "code",
   "execution_count": 65,
   "id": "53366558-e6fb-430b-9fa6-853dc255fa74",
   "metadata": {},
   "outputs": [],
   "source": [
    "def validate_emissions(df, quantity_col, factor_col, emission_col, tolerance=1e-3):\n",
    "    import numpy as np\n",
    "    \n",
    "    # Calculate expected emissions\n",
    "    expected = df[quantity_col] * df[factor_col]\n",
    "    \n",
    "    # Compare with actual emissions with tolerance\n",
    "    mismatch_mask = ~np.isclose(expected, df[emission_col], atol=tolerance)\n",
    "    \n",
    "    # Rows that fail the check\n",
    "    incorrect_rows = df[mismatch_mask]\n",
    "    \n",
    "    # Print incorrect values\n",
    "    print(\"Rows where q1_quantity * emission_factor != ghg_emission:\")\n",
    "    print(incorrect_rows[[quantity_col, factor_col, emission_col]])\n",
    "    \n",
    "    print(f\"\\nTotal number of wrong rows: {incorrect_rows.shape[0]}\")\n",
    "    \n",
    "    return incorrect_rows.shape[0]\n",
    "\n",
    "# Example usage:\n",
    "# wrong_count = validate_emissions(df=scope3, quantity_col='q1_quantity', factor_col='emission_factor', emission_col='ghg_emission_(tco2)')\n"
   ]
  },
  {
   "cell_type": "code",
   "execution_count": 66,
   "id": "53244d96-b57f-4a61-a455-947c4888d7a0",
   "metadata": {},
   "outputs": [
    {
     "name": "stdout",
     "output_type": "stream",
     "text": [
      "Rows where q1_quantity * emission_factor != ghg_emission:\n",
      "Empty DataFrame\n",
      "Columns: [q1_quantity, emission_factor, ghg_emission_(tco2)]\n",
      "Index: []\n",
      "\n",
      "Total number of wrong rows: 0\n",
      "Number of wrong rows found: 0\n"
     ]
    }
   ],
   "source": [
    "# Assuming your DataFrame is named scope3\n",
    "wrong_count = validate_emissions(\n",
    "    df=scope1,\n",
    "    quantity_col='q1_quantity',\n",
    "    factor_col='emission_factor',\n",
    "    emission_col='ghg_emission_(tco2)'\n",
    ")\n",
    "\n",
    "print(f\"Number of wrong rows found: {wrong_count}\")\n"
   ]
  },
  {
   "cell_type": "code",
   "execution_count": 67,
   "id": "17911e19-4959-40e3-8a8d-00f59b60f7f8",
   "metadata": {},
   "outputs": [
    {
     "name": "stdout",
     "output_type": "stream",
     "text": [
      "Rows where q1_quantity * emission_factor != ghg_emission:\n",
      "Empty DataFrame\n",
      "Columns: [energy_consumed, emission_factor_(tco₂/unit), scope_2_emissions_(tco₂)]\n",
      "Index: []\n",
      "\n",
      "Total number of wrong rows: 0\n",
      "Number of wrong rows found: 0\n"
     ]
    }
   ],
   "source": [
    "wrong_count = validate_emissions(\n",
    "    df=scope2,\n",
    "    quantity_col='energy_consumed',\n",
    "    factor_col='emission_factor_(tco₂/unit)',\n",
    "    emission_col='scope_2_emissions_(tco₂)'\n",
    ")\n",
    "print(f\"Number of wrong rows found: {wrong_count}\")"
   ]
  },
  {
   "cell_type": "code",
   "execution_count": 68,
   "id": "c166579d-4470-49b6-9f42-fab821869ec9",
   "metadata": {},
   "outputs": [],
   "source": [
    "# ------- Scope 1 processing -------\n",
    "# Columns to keep for Scope 1 (example: keep key features for GHG calc)\n",
    "scope1_keep = [\n",
    "    'section', 'material', 'unit_of_material', 'year/timeline',\n",
    "    'q1_quantity', 'emission_factor', 'unit_of_emission_factor',\n",
    "    'ghg_emission_(tco2)', 'location_(plant)','year/timeline'\n",
    "]\n",
    "\n",
    "scope1 = scope1[scope1_keep]\n",
    "\n",
    "# Rename columns uniformly\n",
    "scope1.rename(columns={\n",
    "    'section': 'section',\n",
    "    'material': 'material',\n",
    "    'unit_of_material': 'unit',\n",
    "    'year/timeline': 'date',\n",
    "    'q1_quantity': 'quantity',\n",
    "    'emission_factor': 'emission_factor',\n",
    "    'unit_of_emission_factor': 'emission_factor_unit',\n",
    "    'ghg_emission_(tco2)': 'ghg_emission',\n",
    "    'location_(plant)': 'location'\n",
    "}, inplace=True)\n"
   ]
  },
  {
   "cell_type": "code",
   "execution_count": 69,
   "id": "1fb733a4-4225-479b-953e-d2339f9cae4f",
   "metadata": {},
   "outputs": [],
   "source": [
    "# ------- Scope 2 processing -------\n",
    "# Columns to keep (selected relevant ones)\n",
    "scope2_keep = [\n",
    "    'section/process', 'energy_type', 'unit',\n",
    "    'energy_consumed', 'emission_factor_(tco₂/unit)', 'scope_2_emissions_(tco₂)', 'location_(plant)','year/timeline'\n",
    "]\n",
    "\n",
    "scope2 = scope2[scope2_keep]\n",
    "\n",
    "# Rename columns for scope2\n",
    "scope2.rename(columns={\n",
    "    'section/process': 'section',\n",
    "    'energy_type': 'material',\n",
    "    'unit': 'unit',\n",
    "    'year/timeline': 'date',\n",
    "    'energy_consumed': 'quantity',\n",
    "    'emission_factor_(tco₂/unit)': 'emission_factor',\n",
    "    'scope_2_emissions_(tco₂)': 'ghg_emission',\n",
    "    'location_(plant)': 'location'\n",
    "}, inplace=True)"
   ]
  },
  {
   "cell_type": "code",
   "execution_count": 70,
   "id": "f29dd394-839e-41e2-960f-08d93013390f",
   "metadata": {},
   "outputs": [],
   "source": [
    "# ------- Scope 3 processing -------\n",
    "# Columns to keep for scope3 (important for GHG calc)\n",
    "scope3_keep = [\n",
    "    'scope_3_category', 'activity_description', 'unit_of_activity',\n",
    "    'quantity', 'emission_factor_(tco2/unit)', 'scope_3_emissions_(tco2)','year/timeline'\n",
    "]\n",
    "scope3 = scope3[scope3_keep]\n",
    "\n",
    "# Rename columns for scope3\n",
    "scope3.rename(columns={\n",
    "    'scope_3_category': 'section',\n",
    "    'activity_description': 'material',\n",
    "    'unit_of_activity': 'unit',\n",
    "    'year/timeline': 'date',\n",
    "    'quantity': 'quantity',\n",
    "    'emission_factor_(tco2/unit)': 'emission_factor',\n",
    "    'scope_3_emissions_(tco2)': 'ghg_emission',\n",
    "    'location_(plant)': 'location'\n",
    "}, inplace=True)\n",
    "\n",
    "# Now all three datasets have roughly same columns:\n",
    "# 'section', 'material', 'unit', 'quantity', 'emission_factor', 'ghg_emission', 'location'"
   ]
  },
  {
   "cell_type": "code",
   "execution_count": 71,
   "id": "936443b0-d283-4b72-b222-c15709bb58da",
   "metadata": {},
   "outputs": [
    {
     "name": "stdout",
     "output_type": "stream",
     "text": [
      "        section                 material    unit       date   quantity  \\\n",
      "0  Pellet Plant          Anthracite Coal  tonnes 2006-01-01  136843.66   \n",
      "1  Pellet Plant               Iron Scrap  tonnes 2006-01-01  399043.61   \n",
      "2  Pellet Plant           Petroleum Coke  tonnes 2006-01-01   92899.41   \n",
      "3  Pellet Plant          Bituminous Coal  tonnes 2006-01-01  476400.55   \n",
      "4  Pellet Plant  Calcined Petroleum Coke  tonnes 2006-01-01  343775.39   \n",
      "\n",
      "   emission_factor emission_factor_unit  ghg_emission             location  \\\n",
      "0            1.044               tCO2/t  1.428648e+05  Central Steel Plant   \n",
      "1            2.849              tCO2/KL  1.136875e+06  Central Steel Plant   \n",
      "2            1.390              tCO2/KL  1.291302e+05  Central Steel Plant   \n",
      "3            3.084              tCO2/KL  1.469219e+06  Central Steel Plant   \n",
      "4            2.036               tCO2/t  6.999267e+05  Central Steel Plant   \n",
      "\n",
      "        date  \n",
      "0 2006-01-01  \n",
      "1 2006-01-01  \n",
      "2 2006-01-01  \n",
      "3 2006-01-01  \n",
      "4 2006-01-01  \n",
      "_______________________________________\n",
      "                section               material unit  quantity  \\\n",
      "0                   EAF  Purchased Electricity  kWh     60000   \n",
      "1          Rolling Mill  Purchased Electricity  kWh     25000   \n",
      "2          Pellet Plant  Purchased Electricity  kWh     10000   \n",
      "3  Utilities (WDU, etc)         Imported Steam   GJ     15000   \n",
      "4       Admin Buildings  Purchased Electricity  kWh      5000   \n",
      "\n",
      "   emission_factor  ghg_emission             location       date  \n",
      "0             0.80       48000.0  Central Steel Plant 2023-01-01  \n",
      "1             0.80       20000.0  Central Steel Plant 2023-01-01  \n",
      "2             0.60        6000.0  Central Steel Plant 2023-01-01  \n",
      "3             0.20        3000.0  Central Steel Plant 2023-01-01  \n",
      "4             0.85        4250.0  Central Steel Plant 2023-01-01  \n",
      "_______________________________________\n",
      "                                    section             material      unit  \\\n",
      "0             Waste Generated in Operations  Steel Slag Disposal    tonnes   \n",
      "1                           Business Travel           Air Travel        km   \n",
      "2              Purchased Goods and Services  DRI (from supplier)    tonnes   \n",
      "3                        Employee Commuting       Bus/Car Travel        km   \n",
      "4  Upstream Transportation and Distribution    Inbound logistics  tonne-km   \n",
      "\n",
      "      quantity  emission_factor  ghg_emission       date  \n",
      "0     15733.76             0.10   1573.376000 2024-01-01  \n",
      "1    478426.47             0.00     86.116765 2024-01-01  \n",
      "2    325925.91             0.25  81481.477500 2024-01-01  \n",
      "3   1026075.79             0.00    123.129095 2024-01-01  \n",
      "4  75528315.32             0.00   3776.415766 2024-01-01  \n"
     ]
    }
   ],
   "source": [
    "print(scope1.head())\n",
    "print(\"_______________________________________\")\n",
    "print(scope2.head())\n",
    "print(\"_______________________________________\")\n",
    "print(scope3.head())"
   ]
  },
  {
   "cell_type": "code",
   "execution_count": 72,
   "id": "f7c7e2a8-c60b-4e27-87d2-521a5680ae89",
   "metadata": {},
   "outputs": [],
   "source": [
    "# After making changes to the DataFrame (e.g., scope1), save back to same CSV file\n",
    "scope1.to_csv(r\"C:\\Users\\dongr\\Downloads\\power-forecasting\\data\\scope1.csv\", index=False)\n",
    "scope2.to_csv(r\"C:\\Users\\dongr\\Downloads\\power-forecasting\\data\\scope2.csv\", index=False)\n",
    "scope3.to_csv(r\"C:\\Users\\dongr\\Downloads\\power-forecasting\\data\\scope3.csv\", index=False)"
   ]
  },
  {
   "cell_type": "code",
   "execution_count": 74,
   "id": "0d39fb92-ddc8-43eb-b589-090b1b4113cd",
   "metadata": {},
   "outputs": [
    {
     "name": "stdout",
     "output_type": "stream",
     "text": [
      "<class 'pandas.core.frame.DataFrame'>\n",
      "RangeIndex: 123 entries, 0 to 122\n",
      "Data columns (total 10 columns):\n",
      " #   Column                Non-Null Count  Dtype         \n",
      "---  ------                --------------  -----         \n",
      " 0   section               123 non-null    object        \n",
      " 1   material              123 non-null    object        \n",
      " 2   unit                  123 non-null    object        \n",
      " 3   date                  123 non-null    datetime64[ns]\n",
      " 4   quantity              123 non-null    float64       \n",
      " 5   emission_factor       123 non-null    float64       \n",
      " 6   emission_factor_unit  123 non-null    object        \n",
      " 7   ghg_emission          123 non-null    float64       \n",
      " 8   location              123 non-null    object        \n",
      " 9   date                  123 non-null    datetime64[ns]\n",
      "dtypes: datetime64[ns](2), float64(3), object(5)\n",
      "memory usage: 9.7+ KB\n",
      "None\n",
      "____________________________________________________________________________________________\n",
      "<class 'pandas.core.frame.DataFrame'>\n",
      "RangeIndex: 18 entries, 0 to 17\n",
      "Data columns (total 8 columns):\n",
      " #   Column           Non-Null Count  Dtype         \n",
      "---  ------           --------------  -----         \n",
      " 0   section          18 non-null     object        \n",
      " 1   material         18 non-null     object        \n",
      " 2   unit             18 non-null     object        \n",
      " 3   quantity         18 non-null     int64         \n",
      " 4   emission_factor  18 non-null     float64       \n",
      " 5   ghg_emission     18 non-null     float64       \n",
      " 6   location         18 non-null     object        \n",
      " 7   date             18 non-null     datetime64[ns]\n",
      "dtypes: datetime64[ns](1), float64(2), int64(1), object(4)\n",
      "memory usage: 1.2+ KB\n",
      "None\n",
      "____________________________________________________________________________________________\n",
      "<class 'pandas.core.frame.DataFrame'>\n",
      "RangeIndex: 120 entries, 0 to 119\n",
      "Data columns (total 7 columns):\n",
      " #   Column           Non-Null Count  Dtype         \n",
      "---  ------           --------------  -----         \n",
      " 0   section          120 non-null    object        \n",
      " 1   material         120 non-null    object        \n",
      " 2   unit             120 non-null    object        \n",
      " 3   quantity         120 non-null    float64       \n",
      " 4   emission_factor  120 non-null    float64       \n",
      " 5   ghg_emission     120 non-null    float64       \n",
      " 6   date             120 non-null    datetime64[ns]\n",
      "dtypes: datetime64[ns](1), float64(3), object(3)\n",
      "memory usage: 6.7+ KB\n",
      "None\n"
     ]
    }
   ],
   "source": [
    "print(scope1.info()) \n",
    "print('____________________________________________________________________________________________')\n",
    "print(scope2.info())\n",
    "print('____________________________________________________________________________________________')\n",
    "print(scope3.info()) "
   ]
  },
  {
   "cell_type": "code",
   "execution_count": null,
   "id": "81834492-b4ce-4f49-86a6-e4585b423dff",
   "metadata": {},
   "outputs": [],
   "source": []
  }
 ],
 "metadata": {
  "kernelspec": {
   "display_name": "Python (power-forecasting)",
   "language": "python",
   "name": "power-forecasting"
  },
  "language_info": {
   "codemirror_mode": {
    "name": "ipython",
    "version": 3
   },
   "file_extension": ".py",
   "mimetype": "text/x-python",
   "name": "python",
   "nbconvert_exporter": "python",
   "pygments_lexer": "ipython3",
   "version": "3.10.0"
  }
 },
 "nbformat": 4,
 "nbformat_minor": 5
}
